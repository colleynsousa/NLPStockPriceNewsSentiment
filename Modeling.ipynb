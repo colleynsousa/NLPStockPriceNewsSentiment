{
 "cells": [
  {
   "cell_type": "code",
   "execution_count": 50,
   "id": "1e38b335",
   "metadata": {},
   "outputs": [],
   "source": [
    "import numpy as np \n",
    "import pandas as pd \n",
    "import matplotlib.pyplot as plt \n",
    "import seaborn as sns \n",
    "from sklearn.model_selection import train_test_split, GridSearchCV, RandomizedSearchCV\n",
    "from sklearn.preprocessing import StandardScaler\n",
    "from sklearn.linear_model import Ridge \n",
    "from sklearn.ensemble import RandomForestRegressor\n",
    "from xgboost import XGBRegressor\n",
    "from sklearn.metrics import accuracy_score, mean_squared_error, mean_absolute_error, r2_score, precision_score, recall_score, f1_score, confusion_matrix, ConfusionMatrixDisplay\n",
    "from sklearn.linear_model import RidgeClassifier\n",
    "from sklearn.ensemble import RandomForestClassifier\n",
    "from xgboost import XGBClassifier"
   ]
  },
  {
   "cell_type": "markdown",
   "id": "dcce0b6e",
   "metadata": {},
   "source": [
    "Loading data and minor cleaning/checking:"
   ]
  },
  {
   "cell_type": "code",
   "execution_count": 35,
   "id": "2483b174",
   "metadata": {},
   "outputs": [
    {
     "name": "stdout",
     "output_type": "stream",
     "text": [
      "Index(['ticker', 'return', 'direction', 'headline_length', 'word_count',\n",
      "       'day_0', 'day_1', 'day_2', 'day_3', 'day_4', 'day_5', 'day_6',\n",
      "       'neg_sentiment', 'neu_sentiment', 'pos_sentiment', 'compound_sentiment',\n",
      "       'finbert_neg', 'finbert_neu', 'finbert_pos', '01', '02', '03', '05',\n",
      "       '06', '10', '19', '1h', 'announces', 'bank', 'beat', 'beats', 'capital',\n",
      "       'ceo', 'covid', 'deal', 'declares', 'dividend', 'earnings', 'energy',\n",
      "       'eps', 'estimates', 'ffo', 'financial', 'gainers', 'group', 'guidance',\n",
      "       'high', 'launches', 'line', 'losers', 'misses', 'new', 'notes',\n",
      "       'offering', 'pandemic', 'prices', 'q2', 'reports', 'results', 'revenue',\n",
      "       'sales', 'says', 'sees', 'shares', 'strong', 'study', 'technologies',\n",
      "       'therapeutics', 'vaccine'],\n",
      "      dtype='object')\n",
      "Index(['return', 'direction', 'headline_length', 'word_count', 'day_0',\n",
      "       'day_1', 'day_2', 'day_3', 'day_4', 'day_5',\n",
      "       ...\n",
      "       'tick_ZM', 'tick_ZNTL', 'tick_ZS', 'tick_ZTCOF', 'tick_ZTO', 'tick_ZTR',\n",
      "       'tick_ZTS', 'tick_ZURVY', 'tick_ZYME', 'tick_ZYXI'],\n",
      "      dtype='object', length=3918)\n",
      "return             float64\n",
      "direction            int64\n",
      "headline_length      int64\n",
      "word_count           int64\n",
      "day_0                int64\n",
      "                    ...   \n",
      "tick_ZTR             int64\n",
      "tick_ZTS             int64\n",
      "tick_ZURVY           int64\n",
      "tick_ZYME            int64\n",
      "tick_ZYXI            int64\n",
      "Length: 3918, dtype: object\n",
      "Empty DataFrame\n",
      "Columns: []\n",
      "Index: [0, 1, 2, 3, 4]\n"
     ]
    },
    {
     "data": {
      "text/html": [
       "<div>\n",
       "<style scoped>\n",
       "    .dataframe tbody tr th:only-of-type {\n",
       "        vertical-align: middle;\n",
       "    }\n",
       "\n",
       "    .dataframe tbody tr th {\n",
       "        vertical-align: top;\n",
       "    }\n",
       "\n",
       "    .dataframe thead th {\n",
       "        text-align: right;\n",
       "    }\n",
       "</style>\n",
       "<table border=\"1\" class=\"dataframe\">\n",
       "  <thead>\n",
       "    <tr style=\"text-align: right;\">\n",
       "      <th></th>\n",
       "      <th>min</th>\n",
       "      <th>max</th>\n",
       "    </tr>\n",
       "  </thead>\n",
       "  <tbody>\n",
       "    <tr>\n",
       "      <th>return</th>\n",
       "      <td>-0.581818</td>\n",
       "      <td>3.18136</td>\n",
       "    </tr>\n",
       "    <tr>\n",
       "      <th>direction</th>\n",
       "      <td>0.000000</td>\n",
       "      <td>1.00000</td>\n",
       "    </tr>\n",
       "    <tr>\n",
       "      <th>headline_length</th>\n",
       "      <td>18.000000</td>\n",
       "      <td>160.00000</td>\n",
       "    </tr>\n",
       "    <tr>\n",
       "      <th>word_count</th>\n",
       "      <td>3.000000</td>\n",
       "      <td>21.00000</td>\n",
       "    </tr>\n",
       "    <tr>\n",
       "      <th>day_0</th>\n",
       "      <td>0.000000</td>\n",
       "      <td>1.00000</td>\n",
       "    </tr>\n",
       "    <tr>\n",
       "      <th>...</th>\n",
       "      <td>...</td>\n",
       "      <td>...</td>\n",
       "    </tr>\n",
       "    <tr>\n",
       "      <th>tick_ZTR</th>\n",
       "      <td>0.000000</td>\n",
       "      <td>1.00000</td>\n",
       "    </tr>\n",
       "    <tr>\n",
       "      <th>tick_ZTS</th>\n",
       "      <td>0.000000</td>\n",
       "      <td>1.00000</td>\n",
       "    </tr>\n",
       "    <tr>\n",
       "      <th>tick_ZURVY</th>\n",
       "      <td>0.000000</td>\n",
       "      <td>1.00000</td>\n",
       "    </tr>\n",
       "    <tr>\n",
       "      <th>tick_ZYME</th>\n",
       "      <td>0.000000</td>\n",
       "      <td>1.00000</td>\n",
       "    </tr>\n",
       "    <tr>\n",
       "      <th>tick_ZYXI</th>\n",
       "      <td>0.000000</td>\n",
       "      <td>1.00000</td>\n",
       "    </tr>\n",
       "  </tbody>\n",
       "</table>\n",
       "<p>3918 rows × 2 columns</p>\n",
       "</div>"
      ],
      "text/plain": [
       "                       min        max\n",
       "return           -0.581818    3.18136\n",
       "direction         0.000000    1.00000\n",
       "headline_length  18.000000  160.00000\n",
       "word_count        3.000000   21.00000\n",
       "day_0             0.000000    1.00000\n",
       "...                    ...        ...\n",
       "tick_ZTR          0.000000    1.00000\n",
       "tick_ZTS          0.000000    1.00000\n",
       "tick_ZURVY        0.000000    1.00000\n",
       "tick_ZYME         0.000000    1.00000\n",
       "tick_ZYXI         0.000000    1.00000\n",
       "\n",
       "[3918 rows x 2 columns]"
      ]
     },
     "execution_count": 35,
     "metadata": {},
     "output_type": "execute_result"
    }
   ],
   "source": [
    "#load data\n",
    "data=pd.read_csv('headlinesNLPdata.csv')\n",
    "data=data.drop(labels=['Unnamed: 0','Headlines','date'], axis='columns')\n",
    "print(data.columns)\n",
    "\n",
    "#create dummy variables for the tickers\n",
    "data=pd.get_dummies(data,columns=['ticker'],prefix='tick',dtype=int)\n",
    "print(data.columns)\n",
    "\n",
    "#Checking if we have categorical data\n",
    "print(data.dtypes)\n",
    "print(data.select_dtypes(include=['object','category']).head())\n",
    "\n",
    "#Checking numeric feature ranges \n",
    "data.describe().T[['min','max']]"
   ]
  },
  {
   "cell_type": "markdown",
   "id": "455e7b84",
   "metadata": {},
   "source": [
    "Data Preprocessing"
   ]
  },
  {
   "cell_type": "code",
   "execution_count": 36,
   "id": "8068db3d",
   "metadata": {},
   "outputs": [],
   "source": [
    "#Separating features \n",
    "X=data.drop(columns=['return','direction'])\n",
    "y=data['return']\n",
    "\n",
    "#Standardizing numeric features (all features should be numeric anyways)\n",
    "numeric_cols=X.select_dtypes(include=['int64','float64']).columns\n",
    "scaler=StandardScaler()\n",
    "X_scaled=X.copy()\n",
    "X_scaled[numeric_cols]=scaler.fit_transform(X[numeric_cols])\n",
    "\n",
    "#Split into train and test sets 80/20\n",
    "X_train,X_test,y_train,y_test=train_test_split(X_scaled,y,test_size=0.2,random_state=42)"
   ]
  },
  {
   "cell_type": "markdown",
   "id": "fc4d412a",
   "metadata": {},
   "source": [
    "We made sure to drop the return and direction values from our input data, as these features are relevant to the result which we seek to predict. Previously, we used 'direction' as one of the input features and obtained unrealistic results for directional accuracy. "
   ]
  },
  {
   "cell_type": "markdown",
   "id": "b88dbac0",
   "metadata": {},
   "source": [
    "Ridge Regression (GridSearchCV)"
   ]
  },
  {
   "cell_type": "code",
   "execution_count": 37,
   "id": "61d3d6e7",
   "metadata": {},
   "outputs": [
    {
     "name": "stdout",
     "output_type": "stream",
     "text": [
      "Ridge Regression:\n",
      "Best alpha:  {'alpha': 100}\n",
      "MSE: 0.0058, MAE: 0.0400, R²: -0.5550, Direction Accuracy: 0.5616\n",
      ", Direction Precision: 0.5496\n",
      ", Direction Recall: 0.5980\n",
      ", Direction F1: 0.5728\n",
      "\n"
     ]
    }
   ],
   "source": [
    "ridge=Ridge()\n",
    "ridge_params={'alpha':[0.01,0.1,1,10,50,100]}\n",
    "grid_ridge=GridSearchCV(ridge,ridge_params,cv=5,scoring='neg_mean_squared_error') #negative MSE scoring, to minimize MSE by maximizing scoring metric\n",
    "grid_ridge.fit(X_train,y_train)\n",
    "best_ridge=grid_ridge.best_estimator_\n",
    "y_pred_ridge=best_ridge.predict(X_test)\n",
    "y_true_bin=(np.sign(y_test)>0).astype(int)\n",
    "y_pred_bin=(np.sign(y_pred_ridge)>0).astype(int)\n",
    "\n",
    "ridge_mse=mean_squared_error(y_test,y_pred_ridge) #MSE\n",
    "ridge_mae=mean_absolute_error(y_test,y_pred_ridge) #MAE\n",
    "ridge_r2=r2_score(y_test,y_pred_ridge) #r2 score\n",
    "ridge_dir_acc=np.mean(np.sign(y_pred_ridge)==np.sign(y_test)) #direction of return accuracy\n",
    "ridge_prec=precision_score(y_true_bin,y_pred_bin)\n",
    "ridge_rec=recall_score(y_true_bin,y_pred_bin)\n",
    "ridge_f1=f1_score(y_true_bin,y_pred_bin)\n",
    "\n",
    "print(\"Ridge Regression:\")\n",
    "print(\"Best alpha: \",grid_ridge.best_params_)\n",
    "print(f\"MSE: {ridge_mse:.4f}, MAE: {ridge_mae:.4f}, R²: {ridge_r2:.4f}, Direction Accuracy: {ridge_dir_acc:.4f}\\n, Direction Precision: {ridge_prec:.4f}\\n, Direction Recall: {ridge_rec:.4f}\\n, Direction F1: {ridge_f1:.4f}\\n\")\n"
   ]
  },
  {
   "cell_type": "markdown",
   "id": "7706192b",
   "metadata": {},
   "source": [
    "Ridge regression is a linear model with one hyperparameter (alpha). Thus we use GridSearchCV here which is efficient since we can exhaustively test a small range of values."
   ]
  },
  {
   "cell_type": "markdown",
   "id": "ed3fe11b",
   "metadata": {},
   "source": [
    "Random Forest (RandomizedSearchCV)"
   ]
  },
  {
   "cell_type": "code",
   "execution_count": 38,
   "id": "d51b9772",
   "metadata": {},
   "outputs": [
    {
     "name": "stdout",
     "output_type": "stream",
     "text": [
      "Random Forest:\n",
      "Best params: {'n_estimators': 1000, 'min_samples_split': 5, 'min_samples_leaf': 2, 'max_depth': 5}\n",
      "MSE: 0.0052, MAE: 0.0366, R²: -0.3978, Direction Accuracy: 0.4648\n",
      ", Direction Precision: 0.4640\n",
      ", Direction Recall: 0.9990\n",
      ", Direction F1: 0.6337\n",
      "\n"
     ]
    }
   ],
   "source": [
    "rf=RandomForestRegressor(random_state=42)\n",
    "rf_param_dist={\n",
    "    'n_estimators':[100,200,500,1000],\n",
    "    'max_depth':[5,10,20,None],\n",
    "    'min_samples_split':[2,5,10],\n",
    "    'min_samples_leaf':[1,2,4]\n",
    "}\n",
    "rf_random=RandomizedSearchCV(rf,param_distributions=rf_param_dist,n_iter=10,cv=3,scoring='neg_mean_squared_error',n_jobs=-1,random_state=42)\n",
    "rf_random.fit(X_train,y_train)\n",
    "best_rf=rf_random.best_estimator_\n",
    "y_pred_rf=best_rf.predict(X_test)\n",
    "y_true_bin=(np.sign(y_test)>0).astype(int)\n",
    "y_pred_bin=(np.sign(y_pred_rf)>0).astype(int)\n",
    "\n",
    "rf_mse=mean_squared_error(y_test,y_pred_rf)\n",
    "rf_mae=mean_absolute_error(y_test,y_pred_rf)\n",
    "rf_r2=r2_score(y_test,y_pred_rf)\n",
    "rf_dir_acc=np.mean(np.sign(y_pred_rf)==np.sign(y_test))\n",
    "rf_prec=precision_score(y_true_bin,y_pred_bin)\n",
    "rf_rec=recall_score(y_true_bin,y_pred_bin)\n",
    "rf_f1=f1_score(y_true_bin,y_pred_bin)\n",
    "\n",
    "print(\"Random Forest:\")\n",
    "print(\"Best params:\",rf_random.best_params_)\n",
    "print(f\"MSE: {rf_mse:.4f}, MAE: {rf_mae:.4f}, R²: {rf_r2:.4f}, Direction Accuracy: {rf_dir_acc:.4f}\\n, Direction Precision: {rf_prec:.4f}\\n, Direction Recall: {rf_rec:.4f}\\n, Direction F1: {rf_f1:.4f}\\n\")"
   ]
  },
  {
   "cell_type": "markdown",
   "id": "c12dc894",
   "metadata": {},
   "source": [
    "Random Forest is an ensemble of decision trees capturing non-linear interactions and feature importance. Since it has many hyperparameters, making a full grid search is too expensive so we opt for RandomizedSearchCV which is more practical to find strong configurations quickly.  "
   ]
  },
  {
   "cell_type": "markdown",
   "id": "868f62da",
   "metadata": {},
   "source": [
    "XGBoost (RandomizedSearchCV)"
   ]
  },
  {
   "cell_type": "code",
   "execution_count": 39,
   "id": "7f746b31",
   "metadata": {},
   "outputs": [
    {
     "name": "stdout",
     "output_type": "stream",
     "text": [
      "XGBoost:\n",
      "Best params: {'subsample': 0.6, 'n_estimators': 100, 'max_depth': 3, 'learning_rate': 0.01}\n",
      "MSE: 0.0040, MAE: 0.0357, R²: -0.0769, Direction Accuracy: 0.4634\n",
      ", Direction Precision: 0.4634\n",
      ", Direction Recall: 1.0000\n",
      ", Direction F1: 0.6333\n",
      "\n"
     ]
    }
   ],
   "source": [
    "xgb=XGBRegressor(random_state=42,objective='reg:squarederror')\n",
    "xgb_param_dist={\n",
    "    'n_estimators':[100,200,500],\n",
    "    'max_depth':[3,5,7],\n",
    "    'learning_rate':[0.01,0.05,0.1],\n",
    "    'subsample':[0.6,0.8,1]\n",
    "}\n",
    "xgb_random=RandomizedSearchCV(xgb,param_distributions=xgb_param_dist,n_iter=10,cv=3,scoring='neg_mean_squared_error',n_jobs=-1,random_state=42)\n",
    "xgb_random.fit(X_train,y_train)\n",
    "best_xgb=xgb_random.best_estimator_\n",
    "y_pred_xgb=best_xgb.predict(X_test)\n",
    "y_true_bin=(np.sign(y_test)>0).astype(int)\n",
    "y_pred_bin=(np.sign(y_pred_xgb)>0).astype(int)\n",
    "\n",
    "xgb_mse=mean_squared_error(y_test,y_pred_xgb)\n",
    "xgb_mae=mean_absolute_error(y_test,y_pred_xgb)\n",
    "xgb_r2=r2_score(y_test,y_pred_xgb)\n",
    "xgb_dir_acc=np.mean(np.sign(y_pred_xgb)==np.sign(y_test))\n",
    "xgb_prec=precision_score(y_true_bin,y_pred_bin)\n",
    "xgb_rec=recall_score(y_true_bin,y_pred_bin)\n",
    "xgb_f1=f1_score(y_true_bin,y_pred_bin)\n",
    "\n",
    "\n",
    "print(\"XGBoost:\")\n",
    "print(\"Best params:\",xgb_random.best_params_)\n",
    "print(f\"MSE: {xgb_mse:.4f}, MAE: {xgb_mae:.4f}, R²: {xgb_r2:.4f}, Direction Accuracy: {xgb_dir_acc:.4f}\\n, Direction Precision: {xgb_prec:.4f}\\n, Direction Recall: {xgb_rec:.4f}\\n, Direction F1: {xgb_f1:.4f}\\n\")"
   ]
  },
  {
   "cell_type": "markdown",
   "id": "6b50fc6f",
   "metadata": {},
   "source": [
    "XGBoost is a gradient boosting model that works very well on tabular data. Like Random Forest it has many hyperparameters and is better suited to RandomizedSearchCV. "
   ]
  },
  {
   "cell_type": "markdown",
   "id": "278ba217",
   "metadata": {},
   "source": [
    "Comparison"
   ]
  },
  {
   "cell_type": "code",
   "execution_count": 43,
   "id": "46780574",
   "metadata": {},
   "outputs": [
    {
     "name": "stdout",
     "output_type": "stream",
     "text": [
      "Top Ridge features:\n",
      " tick_KODK    0.027376\n",
      "tick_ALYI    0.016531\n",
      "tick_IGC     0.011543\n",
      "tick_KITL    0.011451\n",
      "tick_RMBL    0.011344\n",
      "dtype: float64\n",
      "\n",
      "Top RF features:\n",
      " tick_KODK      0.185184\n",
      "finbert_pos    0.174993\n",
      "tick_ALYI      0.108367\n",
      "finbert_neu    0.088502\n",
      "tick_IGC       0.083953\n",
      "dtype: float64\n",
      "\n",
      "Top XGB features:\n",
      " finbert_pos      0.176048\n",
      "day_1            0.140773\n",
      "finbert_neu      0.106788\n",
      "pos_sentiment    0.093537\n",
      "gainers          0.083908\n",
      "dtype: float32\n"
     ]
    }
   ],
   "source": [
    "#Feature importance \n",
    "ridge_importance=pd.Series(best_ridge.coef_,index=X_train.columns).sort_values(key=abs,ascending=False)\n",
    "rf_importance=pd.Series(best_rf.feature_importances_,index=X_train.columns).sort_values(ascending=False)\n",
    "xgb_importance=pd.Series(best_xgb.feature_importances_,index=X_train.columns).sort_values(ascending=False)\n",
    "\n",
    "print(\"Top Ridge features:\\n\", ridge_importance.head(5))\n",
    "print(\"\\nTop RF features:\\n\", rf_importance.head(5))\n",
    "print(\"\\nTop XGB features:\\n\", xgb_importance.head(5))"
   ]
  },
  {
   "cell_type": "code",
   "execution_count": 40,
   "id": "00ec9d84",
   "metadata": {},
   "outputs": [
    {
     "data": {
      "text/html": [
       "<style type=\"text/css\">\n",
       "#T_45adc_row0_col0, #T_45adc_row0_col1, #T_45adc_row0_col2, #T_45adc_row0_col3, #T_45adc_row0_col4, #T_45adc_row0_col5, #T_45adc_row0_col6, #T_45adc_row0_col7, #T_45adc_row1_col0, #T_45adc_row1_col1, #T_45adc_row1_col2, #T_45adc_row1_col3, #T_45adc_row1_col4, #T_45adc_row1_col5, #T_45adc_row1_col6, #T_45adc_row1_col7, #T_45adc_row2_col0, #T_45adc_row2_col1, #T_45adc_row2_col2, #T_45adc_row2_col3, #T_45adc_row2_col4, #T_45adc_row2_col5, #T_45adc_row2_col6, #T_45adc_row2_col7 {\n",
       "  font-size: 12pt;\n",
       "  text-align: center;\n",
       "}\n",
       "</style>\n",
       "<table id=\"T_45adc\">\n",
       "  <caption>Model Performance Comparison</caption>\n",
       "  <thead>\n",
       "    <tr>\n",
       "      <th id=\"T_45adc_level0_col0\" class=\"col_heading level0 col0\" >Model</th>\n",
       "      <th id=\"T_45adc_level0_col1\" class=\"col_heading level0 col1\" >MSE</th>\n",
       "      <th id=\"T_45adc_level0_col2\" class=\"col_heading level0 col2\" >MAE</th>\n",
       "      <th id=\"T_45adc_level0_col3\" class=\"col_heading level0 col3\" >R²</th>\n",
       "      <th id=\"T_45adc_level0_col4\" class=\"col_heading level0 col4\" >Direction Accuracy</th>\n",
       "      <th id=\"T_45adc_level0_col5\" class=\"col_heading level0 col5\" >Direction Precision</th>\n",
       "      <th id=\"T_45adc_level0_col6\" class=\"col_heading level0 col6\" >Direction Recall</th>\n",
       "      <th id=\"T_45adc_level0_col7\" class=\"col_heading level0 col7\" >Direction F1</th>\n",
       "    </tr>\n",
       "  </thead>\n",
       "  <tbody>\n",
       "    <tr>\n",
       "      <td id=\"T_45adc_row0_col0\" class=\"data row0 col0\" >Ridge</td>\n",
       "      <td id=\"T_45adc_row0_col1\" class=\"data row0 col1\" >0.0058</td>\n",
       "      <td id=\"T_45adc_row0_col2\" class=\"data row0 col2\" >0.0400</td>\n",
       "      <td id=\"T_45adc_row0_col3\" class=\"data row0 col3\" >-0.5550</td>\n",
       "      <td id=\"T_45adc_row0_col4\" class=\"data row0 col4\" >0.561631</td>\n",
       "      <td id=\"T_45adc_row0_col5\" class=\"data row0 col5\" >0.549632</td>\n",
       "      <td id=\"T_45adc_row0_col6\" class=\"data row0 col6\" >0.598000</td>\n",
       "      <td id=\"T_45adc_row0_col7\" class=\"data row0 col7\" >0.572797</td>\n",
       "    </tr>\n",
       "    <tr>\n",
       "      <td id=\"T_45adc_row1_col0\" class=\"data row1 col0\" >Random Forest</td>\n",
       "      <td id=\"T_45adc_row1_col1\" class=\"data row1 col1\" >0.0052</td>\n",
       "      <td id=\"T_45adc_row1_col2\" class=\"data row1 col2\" >0.0366</td>\n",
       "      <td id=\"T_45adc_row1_col3\" class=\"data row1 col3\" >-0.3978</td>\n",
       "      <td id=\"T_45adc_row1_col4\" class=\"data row1 col4\" >0.464782</td>\n",
       "      <td id=\"T_45adc_row1_col5\" class=\"data row1 col5\" >0.464004</td>\n",
       "      <td id=\"T_45adc_row1_col6\" class=\"data row1 col6\" >0.999000</td>\n",
       "      <td id=\"T_45adc_row1_col7\" class=\"data row1 col7\" >0.633682</td>\n",
       "    </tr>\n",
       "    <tr>\n",
       "      <td id=\"T_45adc_row2_col0\" class=\"data row2 col0\" >XGBoost</td>\n",
       "      <td id=\"T_45adc_row2_col1\" class=\"data row2 col1\" >0.0040</td>\n",
       "      <td id=\"T_45adc_row2_col2\" class=\"data row2 col2\" >0.0357</td>\n",
       "      <td id=\"T_45adc_row2_col3\" class=\"data row2 col3\" >-0.0769</td>\n",
       "      <td id=\"T_45adc_row2_col4\" class=\"data row2 col4\" >0.463392</td>\n",
       "      <td id=\"T_45adc_row2_col5\" class=\"data row2 col5\" >0.463392</td>\n",
       "      <td id=\"T_45adc_row2_col6\" class=\"data row2 col6\" >1.000000</td>\n",
       "      <td id=\"T_45adc_row2_col7\" class=\"data row2 col7\" >0.633312</td>\n",
       "    </tr>\n",
       "  </tbody>\n",
       "</table>\n"
      ],
      "text/plain": [
       "<pandas.io.formats.style.Styler at 0x19123be90>"
      ]
     },
     "execution_count": 40,
     "metadata": {},
     "output_type": "execute_result"
    }
   ],
   "source": [
    "results = {\n",
    "    \"Model\": [\"Ridge\", \"Random Forest\", \"XGBoost\"],\n",
    "    \"MSE\":   [ridge_mse, rf_mse, xgb_mse],\n",
    "    \"MAE\":   [ridge_mae, rf_mae, xgb_mae],\n",
    "    \"R²\":    [ridge_r2, rf_r2, xgb_r2],\n",
    "    \"Direction Accuracy\": [ridge_dir_acc, rf_dir_acc, xgb_dir_acc],\n",
    "    \"Direction Precision\": [ridge_prec, rf_prec, xgb_prec],\n",
    "    \"Direction Recall\": [ridge_rec, rf_rec, xgb_rec],\n",
    "    \"Direction F1\": [ridge_f1, rf_f1, xgb_f1]\n",
    "}\n",
    "\n",
    "df = pd.DataFrame(results)\n",
    "styled_table = (\n",
    "    df.style\n",
    "      .set_caption(\"Model Performance Comparison\")\n",
    "      .set_properties(**{\n",
    "          \"font-size\": \"12pt\",\n",
    "          \"text-align\": \"center\"\n",
    "      })\n",
    "      .hide(axis=\"index\")\n",
    "      .format({\n",
    "          \"MSE\": \"{:.4f}\",\n",
    "          \"MAE\": \"{:.4f}\",\n",
    "          \"R²\": \"{:.4f}\",\n",
    "          \"Direction Acc.\": \"{:.4f}\",\n",
    "          \"Precision\": \"{:.2f}\",\n",
    "          \"Recall\": \"{:.2f}\",\n",
    "          \"F1\": \"{:.2f}\"\n",
    "      })\n",
    ")\n",
    "\n",
    "styled_table"
   ]
  },
  {
   "cell_type": "code",
   "execution_count": 41,
   "id": "6369de0b",
   "metadata": {},
   "outputs": [
    {
     "data": {
      "image/png": "[encoded data removed]",
      "text/plain": [
       "<Figure size 1500x800 with 3 Axes>"
      ]
     },
     "metadata": {},
     "output_type": "display_data"
    }
   ],
   "source": [
    "#Confusion matrices\n",
    "ridge_bin=(np.sign(y_pred_ridge)>0).astype(int)\n",
    "rf_bin=(np.sign(y_pred_rf)>0).astype(int)\n",
    "xgb_bin=(np.sign(y_pred_xgb)>0).astype(int)\n",
    "\n",
    "ridge_cm=confusion_matrix(y_true_bin,ridge_bin)\n",
    "rf_cm=confusion_matrix(y_true_bin,rf_bin)\n",
    "xgb_cm=confusion_matrix(y_true_bin,xgb_bin)\n",
    "\n",
    "fig,axes=plt.subplots(1,3,figsize=(15,8))\n",
    "\n",
    "for ax,cm,title in zip(axes,[ridge_cm, rf_cm, xgb_cm],[\"Ridge\", \"Random Forest\", \"XGBoost\"]):\n",
    "    disp = ConfusionMatrixDisplay(confusion_matrix=cm, display_labels=[\"Negative\", \"Positive\"])\n",
    "    disp.plot(ax=ax, colorbar=False, cmap=\"Blues\")\n",
    "    ax.set_title(title)\n",
    "\n",
    "plt.suptitle(\"Confusion Matrices by Model (Return Direction)\")\n",
    "plt.tight_layout()\n",
    "plt.show()"
   ]
  },
  {
   "cell_type": "markdown",
   "id": "b39b6d51",
   "metadata": {},
   "source": [
    "Clearly, our models perform terribly... Dissapointing, but this may be a result of the fact that we have made this a regression problem where the target is the raw return. The returns may be too close to random and are centered around 0 with most being tiny, especially since these are returns from the next trading day. Let's try again but with y = direction, such that this becomes a classification problem: "
   ]
  },
  {
   "cell_type": "code",
   "execution_count": 44,
   "id": "ee21789a",
   "metadata": {},
   "outputs": [],
   "source": [
    "#Separating features \n",
    "X=data.drop(columns=['return','direction'])\n",
    "y=data['direction']\n",
    "\n",
    "#Standardizing numeric features (all features should be numeric anyways)\n",
    "numeric_cols=X.select_dtypes(include=['int64','float64']).columns\n",
    "scaler=StandardScaler()\n",
    "X_scaled=X.copy()\n",
    "X_scaled[numeric_cols]=scaler.fit_transform(X[numeric_cols])\n",
    "\n",
    "#Split into train and test sets 80/20\n",
    "X_train,X_test,y_train,y_test=train_test_split(X_scaled,y,test_size=0.2,random_state=42)"
   ]
  },
  {
   "cell_type": "code",
   "execution_count": 47,
   "id": "e8dd24fd",
   "metadata": {},
   "outputs": [
    {
     "name": "stdout",
     "output_type": "stream",
     "text": [
      "Ridge Regression:\n",
      "Best alpha:  {'alpha': 50}\n",
      "Direction Accuracy: 0.6052\n",
      ", Direction Precision: 0.5781\n",
      ", Direction Recall: 0.5480\n",
      ", Direction F1: 0.5626\n",
      "\n"
     ]
    }
   ],
   "source": [
    "ridge=RidgeClassifier()\n",
    "ridge_params={'alpha':[0.01,0.1,1,10,50,100]}\n",
    "grid_ridge=GridSearchCV(ridge,ridge_params,cv=5,scoring='accuracy')\n",
    "grid_ridge.fit(X_train,y_train)\n",
    "best_ridge=grid_ridge.best_estimator_\n",
    "y_pred_ridge=best_ridge.predict(X_test)\n",
    "\n",
    "ridge_acc=accuracy_score(y_test,y_pred_ridge) \n",
    "ridge_prec=precision_score(y_test,y_pred_ridge)\n",
    "ridge_rec=recall_score(y_test,y_pred_ridge)\n",
    "ridge_f1=f1_score(y_test,y_pred_ridge)\n",
    "\n",
    "print(\"Ridge Regression:\")\n",
    "print(\"Best alpha: \",grid_ridge.best_params_)\n",
    "print(f\"Direction Accuracy: {ridge_acc:.4f}\\n, Direction Precision: {ridge_prec:.4f}\\n, Direction Recall: {ridge_rec:.4f}\\n, Direction F1: {ridge_f1:.4f}\\n\")"
   ]
  },
  {
   "cell_type": "code",
   "execution_count": 49,
   "id": "0504632b",
   "metadata": {},
   "outputs": [
    {
     "name": "stderr",
     "output_type": "stream",
     "text": [
      "/Users/enzo/opt/anaconda3/envs/PythonEnv/lib/python3.12/site-packages/joblib/externals/loky/process_executor.py:782: UserWarning: A worker stopped while some jobs were given to the executor. This can be caused by a too short worker timeout or by a memory leak.\n",
      "  warnings.warn(\n"
     ]
    },
    {
     "name": "stdout",
     "output_type": "stream",
     "text": [
      "Random Forest:\n",
      "Best params: {'n_estimators': 200, 'min_samples_split': 10, 'min_samples_leaf': 1, 'max_depth': None}\n",
      "Direction Accuracy: 0.5839\n",
      ", Direction Precision: 0.5637\n",
      ", Direction Recall: 0.4510\n",
      ", Direction F1: 0.5011\n",
      "\n"
     ]
    }
   ],
   "source": [
    "rf=RandomForestClassifier(random_state=42)\n",
    "rf_param_dist={\n",
    "    'n_estimators':[100,200,500,1000],\n",
    "    'max_depth':[5,10,20,None],\n",
    "    'min_samples_split':[2,5,10],\n",
    "    'min_samples_leaf':[1,2,4]\n",
    "}\n",
    "rf_random=RandomizedSearchCV(rf,param_distributions=rf_param_dist,n_iter=10,cv=3,scoring='accuracy',n_jobs=-1,random_state=42)\n",
    "rf_random.fit(X_train,y_train)\n",
    "best_rf=rf_random.best_estimator_\n",
    "y_pred_rf=best_rf.predict(X_test)\n",
    "\n",
    "rf_acc=accuracy_score(y_test,y_pred_rf)\n",
    "rf_prec=precision_score(y_test,y_pred_rf)\n",
    "rf_rec=recall_score(y_test,y_pred_rf)\n",
    "rf_f1=f1_score(y_test,y_pred_rf)\n",
    "\n",
    "print(\"Random Forest:\")\n",
    "print(\"Best params:\",rf_random.best_params_)\n",
    "print(f\"Direction Accuracy: {rf_acc:.4f}\\n, Direction Precision: {rf_prec:.4f}\\n, Direction Recall: {rf_rec:.4f}\\n, Direction F1: {rf_f1:.4f}\\n\")"
   ]
  },
  {
   "cell_type": "code",
   "execution_count": 51,
   "id": "e3a43234",
   "metadata": {},
   "outputs": [
    {
     "name": "stderr",
     "output_type": "stream",
     "text": [
      "/Users/enzo/opt/anaconda3/envs/PythonEnv/lib/python3.12/site-packages/xgboost/training.py:183: UserWarning: [10:03:25] WARNING: /Users/runner/miniforge3/conda-bld/xgboost-split_1758007592020/work/src/learner.cc:738: \n",
      "Parameters: { \"use_label_encoder\" } are not used.\n",
      "\n",
      "  bst.update(dtrain, iteration=i, fobj=obj)\n",
      "/Users/enzo/opt/anaconda3/envs/PythonEnv/lib/python3.12/site-packages/xgboost/training.py:183: UserWarning: [10:03:26] WARNING: /Users/runner/miniforge3/conda-bld/xgboost-split_1758007592020/work/src/learner.cc:738: \n",
      "Parameters: { \"use_label_encoder\" } are not used.\n",
      "\n",
      "  bst.update(dtrain, iteration=i, fobj=obj)\n",
      "/Users/enzo/opt/anaconda3/envs/PythonEnv/lib/python3.12/site-packages/xgboost/training.py:183: UserWarning: [10:03:26] WARNING: /Users/runner/miniforge3/conda-bld/xgboost-split_1758007592020/work/src/learner.cc:738: \n",
      "Parameters: { \"use_label_encoder\" } are not used.\n",
      "\n",
      "  bst.update(dtrain, iteration=i, fobj=obj)\n",
      "/Users/enzo/opt/anaconda3/envs/PythonEnv/lib/python3.12/site-packages/xgboost/training.py:183: UserWarning: [10:03:28] WARNING: /Users/runner/miniforge3/conda-bld/xgboost-split_1758007592020/work/src/learner.cc:738: \n",
      "Parameters: { \"use_label_encoder\" } are not used.\n",
      "\n",
      "  bst.update(dtrain, iteration=i, fobj=obj)\n",
      "/Users/enzo/opt/anaconda3/envs/PythonEnv/lib/python3.12/site-packages/xgboost/training.py:183: UserWarning: [10:03:30] WARNING: /Users/runner/miniforge3/conda-bld/xgboost-split_1758007592020/work/src/learner.cc:738: \n",
      "Parameters: { \"use_label_encoder\" } are not used.\n",
      "\n",
      "  bst.update(dtrain, iteration=i, fobj=obj)\n",
      "/Users/enzo/opt/anaconda3/envs/PythonEnv/lib/python3.12/site-packages/xgboost/training.py:183: UserWarning: [10:03:31] WARNING: /Users/runner/miniforge3/conda-bld/xgboost-split_1758007592020/work/src/learner.cc:738: \n",
      "Parameters: { \"use_label_encoder\" } are not used.\n",
      "\n",
      "  bst.update(dtrain, iteration=i, fobj=obj)\n",
      "/Users/enzo/opt/anaconda3/envs/PythonEnv/lib/python3.12/site-packages/xgboost/training.py:183: UserWarning: [10:03:32] WARNING: /Users/runner/miniforge3/conda-bld/xgboost-split_1758007592020/work/src/learner.cc:738: \n",
      "Parameters: { \"use_label_encoder\" } are not used.\n",
      "\n",
      "  bst.update(dtrain, iteration=i, fobj=obj)\n",
      "/Users/enzo/opt/anaconda3/envs/PythonEnv/lib/python3.12/site-packages/xgboost/training.py:183: UserWarning: [10:03:35] WARNING: /Users/runner/miniforge3/conda-bld/xgboost-split_1758007592020/work/src/learner.cc:738: \n",
      "Parameters: { \"use_label_encoder\" } are not used.\n",
      "\n",
      "  bst.update(dtrain, iteration=i, fobj=obj)\n",
      "/Users/enzo/opt/anaconda3/envs/PythonEnv/lib/python3.12/site-packages/xgboost/training.py:183: UserWarning: [10:03:36] WARNING: /Users/runner/miniforge3/conda-bld/xgboost-split_1758007592020/work/src/learner.cc:738: \n",
      "Parameters: { \"use_label_encoder\" } are not used.\n",
      "\n",
      "  bst.update(dtrain, iteration=i, fobj=obj)\n",
      "/Users/enzo/opt/anaconda3/envs/PythonEnv/lib/python3.12/site-packages/xgboost/training.py:183: UserWarning: [10:03:37] WARNING: /Users/runner/miniforge3/conda-bld/xgboost-split_1758007592020/work/src/learner.cc:738: \n",
      "Parameters: { \"use_label_encoder\" } are not used.\n",
      "\n",
      "  bst.update(dtrain, iteration=i, fobj=obj)\n",
      "/Users/enzo/opt/anaconda3/envs/PythonEnv/lib/python3.12/site-packages/xgboost/training.py:183: UserWarning: [10:03:38] WARNING: /Users/runner/miniforge3/conda-bld/xgboost-split_1758007592020/work/src/learner.cc:738: \n",
      "Parameters: { \"use_label_encoder\" } are not used.\n",
      "\n",
      "  bst.update(dtrain, iteration=i, fobj=obj)\n",
      "/Users/enzo/opt/anaconda3/envs/PythonEnv/lib/python3.12/site-packages/xgboost/training.py:183: UserWarning: [10:03:40] WARNING: /Users/runner/miniforge3/conda-bld/xgboost-split_1758007592020/work/src/learner.cc:738: \n",
      "Parameters: { \"use_label_encoder\" } are not used.\n",
      "\n",
      "  bst.update(dtrain, iteration=i, fobj=obj)\n",
      "/Users/enzo/opt/anaconda3/envs/PythonEnv/lib/python3.12/site-packages/xgboost/training.py:183: UserWarning: [10:03:42] WARNING: /Users/runner/miniforge3/conda-bld/xgboost-split_1758007592020/work/src/learner.cc:738: \n",
      "Parameters: { \"use_label_encoder\" } are not used.\n",
      "\n",
      "  bst.update(dtrain, iteration=i, fobj=obj)\n",
      "/Users/enzo/opt/anaconda3/envs/PythonEnv/lib/python3.12/site-packages/xgboost/training.py:183: UserWarning: [10:03:43] WARNING: /Users/runner/miniforge3/conda-bld/xgboost-split_1758007592020/work/src/learner.cc:738: \n",
      "Parameters: { \"use_label_encoder\" } are not used.\n",
      "\n",
      "  bst.update(dtrain, iteration=i, fobj=obj)\n",
      "/Users/enzo/opt/anaconda3/envs/PythonEnv/lib/python3.12/site-packages/xgboost/training.py:183: UserWarning: [10:03:44] WARNING: /Users/runner/miniforge3/conda-bld/xgboost-split_1758007592020/work/src/learner.cc:738: \n",
      "Parameters: { \"use_label_encoder\" } are not used.\n",
      "\n",
      "  bst.update(dtrain, iteration=i, fobj=obj)\n",
      "/Users/enzo/opt/anaconda3/envs/PythonEnv/lib/python3.12/site-packages/xgboost/training.py:183: UserWarning: [10:03:46] WARNING: /Users/runner/miniforge3/conda-bld/xgboost-split_1758007592020/work/src/learner.cc:738: \n",
      "Parameters: { \"use_label_encoder\" } are not used.\n",
      "\n",
      "  bst.update(dtrain, iteration=i, fobj=obj)\n",
      "/Users/enzo/opt/anaconda3/envs/PythonEnv/lib/python3.12/site-packages/xgboost/training.py:183: UserWarning: [10:03:47] WARNING: /Users/runner/miniforge3/conda-bld/xgboost-split_1758007592020/work/src/learner.cc:738: \n",
      "Parameters: { \"use_label_encoder\" } are not used.\n",
      "\n",
      "  bst.update(dtrain, iteration=i, fobj=obj)\n",
      "/Users/enzo/opt/anaconda3/envs/PythonEnv/lib/python3.12/site-packages/xgboost/training.py:183: UserWarning: [10:03:51] WARNING: /Users/runner/miniforge3/conda-bld/xgboost-split_1758007592020/work/src/learner.cc:738: \n",
      "Parameters: { \"use_label_encoder\" } are not used.\n",
      "\n",
      "  bst.update(dtrain, iteration=i, fobj=obj)\n",
      "/Users/enzo/opt/anaconda3/envs/PythonEnv/lib/python3.12/site-packages/xgboost/training.py:183: UserWarning: [10:03:53] WARNING: /Users/runner/miniforge3/conda-bld/xgboost-split_1758007592020/work/src/learner.cc:738: \n",
      "Parameters: { \"use_label_encoder\" } are not used.\n",
      "\n",
      "  bst.update(dtrain, iteration=i, fobj=obj)\n",
      "/Users/enzo/opt/anaconda3/envs/PythonEnv/lib/python3.12/site-packages/xgboost/training.py:183: UserWarning: [10:03:54] WARNING: /Users/runner/miniforge3/conda-bld/xgboost-split_1758007592020/work/src/learner.cc:738: \n",
      "Parameters: { \"use_label_encoder\" } are not used.\n",
      "\n",
      "  bst.update(dtrain, iteration=i, fobj=obj)\n",
      "/Users/enzo/opt/anaconda3/envs/PythonEnv/lib/python3.12/site-packages/xgboost/training.py:183: UserWarning: [10:03:56] WARNING: /Users/runner/miniforge3/conda-bld/xgboost-split_1758007592020/work/src/learner.cc:738: \n",
      "Parameters: { \"use_label_encoder\" } are not used.\n",
      "\n",
      "  bst.update(dtrain, iteration=i, fobj=obj)\n",
      "/Users/enzo/opt/anaconda3/envs/PythonEnv/lib/python3.12/site-packages/xgboost/training.py:183: UserWarning: [10:03:57] WARNING: /Users/runner/miniforge3/conda-bld/xgboost-split_1758007592020/work/src/learner.cc:738: \n",
      "Parameters: { \"use_label_encoder\" } are not used.\n",
      "\n",
      "  bst.update(dtrain, iteration=i, fobj=obj)\n",
      "/Users/enzo/opt/anaconda3/envs/PythonEnv/lib/python3.12/site-packages/xgboost/training.py:183: UserWarning: [10:03:58] WARNING: /Users/runner/miniforge3/conda-bld/xgboost-split_1758007592020/work/src/learner.cc:738: \n",
      "Parameters: { \"use_label_encoder\" } are not used.\n",
      "\n",
      "  bst.update(dtrain, iteration=i, fobj=obj)\n",
      "/Users/enzo/opt/anaconda3/envs/PythonEnv/lib/python3.12/site-packages/xgboost/training.py:183: UserWarning: [10:04:00] WARNING: /Users/runner/miniforge3/conda-bld/xgboost-split_1758007592020/work/src/learner.cc:738: \n",
      "Parameters: { \"use_label_encoder\" } are not used.\n",
      "\n",
      "  bst.update(dtrain, iteration=i, fobj=obj)\n",
      "/Users/enzo/opt/anaconda3/envs/PythonEnv/lib/python3.12/site-packages/xgboost/training.py:183: UserWarning: [10:04:02] WARNING: /Users/runner/miniforge3/conda-bld/xgboost-split_1758007592020/work/src/learner.cc:738: \n",
      "Parameters: { \"use_label_encoder\" } are not used.\n",
      "\n",
      "  bst.update(dtrain, iteration=i, fobj=obj)\n",
      "/Users/enzo/opt/anaconda3/envs/PythonEnv/lib/python3.12/site-packages/xgboost/training.py:183: UserWarning: [10:04:03] WARNING: /Users/runner/miniforge3/conda-bld/xgboost-split_1758007592020/work/src/learner.cc:738: \n",
      "Parameters: { \"use_label_encoder\" } are not used.\n",
      "\n",
      "  bst.update(dtrain, iteration=i, fobj=obj)\n",
      "/Users/enzo/opt/anaconda3/envs/PythonEnv/lib/python3.12/site-packages/xgboost/training.py:183: UserWarning: [10:04:04] WARNING: /Users/runner/miniforge3/conda-bld/xgboost-split_1758007592020/work/src/learner.cc:738: \n",
      "Parameters: { \"use_label_encoder\" } are not used.\n",
      "\n",
      "  bst.update(dtrain, iteration=i, fobj=obj)\n",
      "/Users/enzo/opt/anaconda3/envs/PythonEnv/lib/python3.12/site-packages/xgboost/training.py:183: UserWarning: [10:04:06] WARNING: /Users/runner/miniforge3/conda-bld/xgboost-split_1758007592020/work/src/learner.cc:738: \n",
      "Parameters: { \"use_label_encoder\" } are not used.\n",
      "\n",
      "  bst.update(dtrain, iteration=i, fobj=obj)\n",
      "/Users/enzo/opt/anaconda3/envs/PythonEnv/lib/python3.12/site-packages/xgboost/training.py:183: UserWarning: [10:04:07] WARNING: /Users/runner/miniforge3/conda-bld/xgboost-split_1758007592020/work/src/learner.cc:738: \n",
      "Parameters: { \"use_label_encoder\" } are not used.\n",
      "\n",
      "  bst.update(dtrain, iteration=i, fobj=obj)\n",
      "/Users/enzo/opt/anaconda3/envs/PythonEnv/lib/python3.12/site-packages/xgboost/training.py:183: UserWarning: [10:04:07] WARNING: /Users/runner/miniforge3/conda-bld/xgboost-split_1758007592020/work/src/learner.cc:738: \n",
      "Parameters: { \"use_label_encoder\" } are not used.\n",
      "\n",
      "  bst.update(dtrain, iteration=i, fobj=obj)\n",
      "/Users/enzo/opt/anaconda3/envs/PythonEnv/lib/python3.12/site-packages/xgboost/training.py:183: UserWarning: [10:04:16] WARNING: /Users/runner/miniforge3/conda-bld/xgboost-split_1758007592020/work/src/learner.cc:738: \n",
      "Parameters: { \"use_label_encoder\" } are not used.\n",
      "\n",
      "  bst.update(dtrain, iteration=i, fobj=obj)\n"
     ]
    },
    {
     "name": "stdout",
     "output_type": "stream",
     "text": [
      "XGBoost:\n",
      "Best params: {'subsample': 0.6, 'n_estimators': 200, 'max_depth': 5, 'learning_rate': 0.01}\n",
      "Direction Accuracy: 0.5547\n",
      ", Direction Precision: 0.5316\n",
      ", Direction Recall: 0.3280\n",
      ", Direction F1: 0.4057\n",
      "\n"
     ]
    }
   ],
   "source": [
    "xgb=XGBClassifier(random_state=42,use_label_encoder=False,eval_metric='logloss')\n",
    "xgb_param_dist={\n",
    "    'n_estimators':[100,200,500],\n",
    "    'max_depth':[3,5,7],\n",
    "    'learning_rate':[0.01,0.05,0.1],\n",
    "    'subsample':[0.6,0.8,1]\n",
    "}\n",
    "xgb_random=RandomizedSearchCV(xgb,param_distributions=xgb_param_dist,n_iter=10,cv=3,scoring='accuracy',n_jobs=-1,random_state=42)\n",
    "xgb_random.fit(X_train,y_train)\n",
    "best_xgb=xgb_random.best_estimator_\n",
    "y_pred_xgb=best_xgb.predict(X_test)\n",
    "\n",
    "xgb_acc=accuracy_score(y_test,y_pred_xgb)\n",
    "xgb_prec=precision_score(y_test,y_pred_xgb)\n",
    "xgb_rec=recall_score(y_test,y_pred_xgb)\n",
    "xgb_f1=f1_score(y_test,y_pred_xgb)\n",
    "\n",
    "\n",
    "print(\"XGBoost:\")\n",
    "print(\"Best params:\",xgb_random.best_params_)\n",
    "print(f\"Direction Accuracy: {xgb_acc:.4f}\\n, Direction Precision: {xgb_prec:.4f}\\n, Direction Recall: {xgb_rec:.4f}\\n, Direction F1: {xgb_f1:.4f}\\n\")"
   ]
  },
  {
   "cell_type": "code",
   "execution_count": 52,
   "id": "b7ab5719",
   "metadata": {},
   "outputs": [
    {
     "name": "stdout",
     "output_type": "stream",
     "text": [
      "Top Ridge features:\n",
      " headline_length   -0.054169\n",
      "tick_ODFL         -0.054169\n",
      "tick_OEC          -0.054169\n",
      "tick_OFG          -0.054169\n",
      "tick_OFIX         -0.054169\n",
      "dtype: float64\n",
      "\n",
      "Top RF features:\n",
      " finbert_pos        0.048311\n",
      "finbert_neg        0.046192\n",
      "finbert_neu        0.045444\n",
      "headline_length    0.045335\n",
      "word_count         0.026501\n",
      "dtype: float64\n",
      "\n",
      "Top XGB features:\n",
      " day_1       0.024065\n",
      "results     0.019760\n",
      "launches    0.018876\n",
      "ffo         0.018817\n",
      "day_2       0.017673\n",
      "dtype: float32\n"
     ]
    }
   ],
   "source": [
    "#Feature importance \n",
    "ridge_importance=pd.Series(best_ridge.coef_[0],index=X_train.columns).sort_values(key=abs,ascending=False)\n",
    "rf_importance=pd.Series(best_rf.feature_importances_,index=X_train.columns).sort_values(ascending=False)\n",
    "xgb_importance=pd.Series(best_xgb.feature_importances_,index=X_train.columns).sort_values(ascending=False)\n",
    "\n",
    "print(\"Top Ridge features:\\n\", ridge_importance.head(5))\n",
    "print(\"\\nTop RF features:\\n\", rf_importance.head(5))\n",
    "print(\"\\nTop XGB features:\\n\", xgb_importance.head(5))"
   ]
  },
  {
   "cell_type": "code",
   "execution_count": 54,
   "id": "d72df085",
   "metadata": {},
   "outputs": [
    {
     "data": {
      "text/html": [
       "<style type=\"text/css\">\n",
       "#T_695c1_row0_col0, #T_695c1_row0_col1, #T_695c1_row0_col2, #T_695c1_row0_col3, #T_695c1_row0_col4, #T_695c1_row1_col0, #T_695c1_row1_col1, #T_695c1_row1_col2, #T_695c1_row1_col3, #T_695c1_row1_col4, #T_695c1_row2_col0, #T_695c1_row2_col1, #T_695c1_row2_col2, #T_695c1_row2_col3, #T_695c1_row2_col4 {\n",
       "  font-size: 12pt;\n",
       "  text-align: center;\n",
       "}\n",
       "</style>\n",
       "<table id=\"T_695c1\">\n",
       "  <caption>Model Performance Comparison</caption>\n",
       "  <thead>\n",
       "    <tr>\n",
       "      <th id=\"T_695c1_level0_col0\" class=\"col_heading level0 col0\" >Model</th>\n",
       "      <th id=\"T_695c1_level0_col1\" class=\"col_heading level0 col1\" >Direction Accuracy</th>\n",
       "      <th id=\"T_695c1_level0_col2\" class=\"col_heading level0 col2\" >Direction Precision</th>\n",
       "      <th id=\"T_695c1_level0_col3\" class=\"col_heading level0 col3\" >Direction Recall</th>\n",
       "      <th id=\"T_695c1_level0_col4\" class=\"col_heading level0 col4\" >Direction F1</th>\n",
       "    </tr>\n",
       "  </thead>\n",
       "  <tbody>\n",
       "    <tr>\n",
       "      <td id=\"T_695c1_row0_col0\" class=\"data row0 col0\" >Ridge</td>\n",
       "      <td id=\"T_695c1_row0_col1\" class=\"data row0 col1\" >0.605190</td>\n",
       "      <td id=\"T_695c1_row0_col2\" class=\"data row0 col2\" >0.578059</td>\n",
       "      <td id=\"T_695c1_row0_col3\" class=\"data row0 col3\" >0.548000</td>\n",
       "      <td id=\"T_695c1_row0_col4\" class=\"data row0 col4\" >0.562628</td>\n",
       "    </tr>\n",
       "    <tr>\n",
       "      <td id=\"T_695c1_row1_col0\" class=\"data row1 col0\" >Random Forest</td>\n",
       "      <td id=\"T_695c1_row1_col1\" class=\"data row1 col1\" >0.583874</td>\n",
       "      <td id=\"T_695c1_row1_col2\" class=\"data row1 col2\" >0.563750</td>\n",
       "      <td id=\"T_695c1_row1_col3\" class=\"data row1 col3\" >0.451000</td>\n",
       "      <td id=\"T_695c1_row1_col4\" class=\"data row1 col4\" >0.501111</td>\n",
       "    </tr>\n",
       "    <tr>\n",
       "      <td id=\"T_695c1_row2_col0\" class=\"data row2 col0\" >XGBoost</td>\n",
       "      <td id=\"T_695c1_row2_col1\" class=\"data row2 col1\" >0.554680</td>\n",
       "      <td id=\"T_695c1_row2_col2\" class=\"data row2 col2\" >0.531605</td>\n",
       "      <td id=\"T_695c1_row2_col3\" class=\"data row2 col3\" >0.328000</td>\n",
       "      <td id=\"T_695c1_row2_col4\" class=\"data row2 col4\" >0.405690</td>\n",
       "    </tr>\n",
       "  </tbody>\n",
       "</table>\n"
      ],
      "text/plain": [
       "<pandas.io.formats.style.Styler at 0x18f9da840>"
      ]
     },
     "execution_count": 54,
     "metadata": {},
     "output_type": "execute_result"
    }
   ],
   "source": [
    "results = {\n",
    "    \"Model\": [\"Ridge\", \"Random Forest\", \"XGBoost\"],\n",
    "    \"Direction Accuracy\": [ridge_acc, rf_acc, xgb_acc],\n",
    "    \"Direction Precision\": [ridge_prec, rf_prec, xgb_prec],\n",
    "    \"Direction Recall\": [ridge_rec, rf_rec, xgb_rec],\n",
    "    \"Direction F1\": [ridge_f1, rf_f1, xgb_f1]\n",
    "}\n",
    "\n",
    "df = pd.DataFrame(results)\n",
    "styled_table = (\n",
    "    df.style\n",
    "      .set_caption(\"Model Performance Comparison\")\n",
    "      .set_properties(**{\n",
    "          \"font-size\": \"12pt\",\n",
    "          \"text-align\": \"center\"\n",
    "      })\n",
    "      .hide(axis=\"index\")\n",
    "      .format({\n",
    "          \"Direction Acc.\": \"{:.4f}\",\n",
    "          \"Precision\": \"{:.2f}\",\n",
    "          \"Recall\": \"{:.2f}\",\n",
    "          \"F1\": \"{:.2f}\"\n",
    "      })\n",
    ")\n",
    "\n",
    "styled_table"
   ]
  },
  {
   "cell_type": "code",
   "execution_count": 55,
   "id": "914a0ee1",
   "metadata": {},
   "outputs": [
    {
     "data": {
      "image/png": "[encoded data removed]",
      "text/plain": [
       "<Figure size 1500x800 with 3 Axes>"
      ]
     },
     "metadata": {},
     "output_type": "display_data"
    }
   ],
   "source": [
    "#Confusion matrices\n",
    "ridge_cm=confusion_matrix(y_test,y_pred_ridge)\n",
    "rf_cm=confusion_matrix(y_test,y_pred_rf)\n",
    "xgb_cm=confusion_matrix(y_test,y_pred_xgb)\n",
    "\n",
    "fig,axes=plt.subplots(1,3,figsize=(15,8))\n",
    "\n",
    "for ax,cm,title in zip(axes,[ridge_cm, rf_cm, xgb_cm],[\"Ridge\", \"Random Forest\", \"XGBoost\"]):\n",
    "    disp = ConfusionMatrixDisplay(confusion_matrix=cm, display_labels=[\"Negative\", \"Positive\"])\n",
    "    disp.plot(ax=ax, colorbar=False, cmap=\"Blues\")\n",
    "    ax.set_title(title)\n",
    "\n",
    "plt.suptitle(\"Confusion Matrices by Model (Return Direction)\")\n",
    "plt.tight_layout()\n",
    "plt.show()"
   ]
  },
  {
   "cell_type": "code",
   "execution_count": null,
   "id": "50680dc1",
   "metadata": {},
   "outputs": [],
   "source": []
  }
 ],
 "metadata": {
  "kernelspec": {
   "display_name": "PythonEnv",
   "language": "python",
   "name": "python3"
  },
  "language_info": {
   "codemirror_mode": {
    "name": "ipython",
    "version": 3
   },
   "file_extension": ".py",
   "mimetype": "text/x-python",
   "name": "python",
   "nbconvert_exporter": "python",
   "pygments_lexer": "ipython3",
   "version": "3.12.11"
  }
 },
 "nbformat": 4,
 "nbformat_minor": 5
}
